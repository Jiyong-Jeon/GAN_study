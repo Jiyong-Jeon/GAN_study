{
  "nbformat": 4,
  "nbformat_minor": 0,
  "metadata": {
    "colab": {
      "provenance": [],
      "gpuType": "T4",
      "authorship_tag": "ABX9TyNxlvhnWGREktq5UVx+l6fJ",
      "include_colab_link": true
    },
    "kernelspec": {
      "name": "python3",
      "display_name": "Python 3"
    },
    "language_info": {
      "name": "python"
    },
    "accelerator": "GPU"
  },
  "cells": [
    {
      "cell_type": "markdown",
      "metadata": {
        "id": "view-in-github",
        "colab_type": "text"
      },
      "source": [
        "<a href=\"https://colab.research.google.com/github/Jiyong-Jeon/GAN_study/blob/main/GAN_In_Action/FashionMnist_Autoencoder.ipynb\" target=\"_parent\"><img src=\"https://colab.research.google.com/assets/colab-badge.svg\" alt=\"Open In Colab\"/></a>"
      ]
    },
    {
      "cell_type": "markdown",
      "source": [
        "1. Auto-Encoder vs Variational Auto-Encoder\n",
        "  - latent vector 분포 차이 확인\n",
        "2. Convalution Variational Auto-Encoder\n",
        "3. 성능 향상 해보기"
      ],
      "metadata": {
        "id": "hSZ5_YAGSY_M"
      }
    },
    {
      "cell_type": "code",
      "execution_count": null,
      "metadata": {
        "id": "V2BunZ5KSS42"
      },
      "outputs": [],
      "source": [
        "import torch\n",
        "import torch.nn as nn\n",
        "from torchvision import datasets, transforms\n",
        "from torchvision.utils import make_grid\n",
        "\n",
        "import numpy as np\n",
        "import pandas as pd\n",
        "import random\n",
        "import matplotlib.pyplot as plt"
      ]
    },
    {
      "cell_type": "code",
      "source": [
        "if torch.cuda.is_available():\n",
        "  torch.set_default_tensor_type(torch.cuda.FloatTensor)\n",
        "  print(\"using cuda:\", torch.cuda.get_device_name(0))\n",
        "  pass\n",
        "\n",
        "device = torch.device(\"cuda\" if torch.cuda.is_available() else \"cpu\")\n",
        "\n",
        "device"
      ],
      "metadata": {
        "colab": {
          "base_uri": "https://localhost:8080/"
        },
        "id": "yQebQnKsS3aY",
        "outputId": "0d5eabbc-95cc-41e9-ce50-7abea7789036"
      },
      "execution_count": null,
      "outputs": [
        {
          "output_type": "stream",
          "name": "stdout",
          "text": [
            "using cuda: Tesla T4\n"
          ]
        },
        {
          "output_type": "execute_result",
          "data": {
            "text/plain": [
              "device(type='cuda')"
            ]
          },
          "metadata": {},
          "execution_count": 2
        }
      ]
    },
    {
      "cell_type": "markdown",
      "source": [
        "## Fashion Mnist Dataset"
      ],
      "metadata": {
        "id": "yXdW9diqZBUX"
      }
    },
    {
      "cell_type": "code",
      "source": [
        "class_list = ['T-shirt/top', 'Trouser', 'Pullover', 'Dress', 'Coat', 'Sandal', 'Shirt', 'Sneaker', 'Bag', 'Ankel boot']\n",
        "\n",
        "batch_size = 64\n",
        "\n",
        "# Define a transform to normalize the data\n",
        "transform = transforms.Compose([transforms.ToTensor()])\n",
        "                                # transforms.Normalize((0.5,), (0.5,))])\n",
        "# Download and load the training data\n",
        "trainset = datasets.FashionMNIST('~/.pytorch/F_MNIST_data/', download=True, train=True, transform=transform)\n",
        "trainloader = torch.utils.data.DataLoader(trainset, batch_size=batch_size, shuffle=True, num_workers=0, generator=torch.Generator(device=device))\n",
        "\n",
        "# Download and load the test data\n",
        "testset = datasets.FashionMNIST('~/.pytorch/F_MNIST_data/', download=True, train=False, transform=transform)\n",
        "testloader = torch.utils.data.DataLoader(testset, batch_size=batch_size, shuffle=False, num_workers=0, generator=torch.Generator(device=device))"
      ],
      "metadata": {
        "colab": {
          "base_uri": "https://localhost:8080/"
        },
        "id": "QuyZ7J-lS5d_",
        "outputId": "ce46d3ea-e987-409a-c35b-7075b8d97f4c"
      },
      "execution_count": null,
      "outputs": [
        {
          "output_type": "stream",
          "name": "stdout",
          "text": [
            "Downloading http://fashion-mnist.s3-website.eu-central-1.amazonaws.com/train-images-idx3-ubyte.gz\n",
            "Downloading http://fashion-mnist.s3-website.eu-central-1.amazonaws.com/train-images-idx3-ubyte.gz to /root/.pytorch/F_MNIST_data/FashionMNIST/raw/train-images-idx3-ubyte.gz\n"
          ]
        },
        {
          "output_type": "stream",
          "name": "stderr",
          "text": [
            "100%|██████████| 26421880/26421880 [00:02<00:00, 9851678.81it/s] \n"
          ]
        },
        {
          "output_type": "stream",
          "name": "stdout",
          "text": [
            "Extracting /root/.pytorch/F_MNIST_data/FashionMNIST/raw/train-images-idx3-ubyte.gz to /root/.pytorch/F_MNIST_data/FashionMNIST/raw\n",
            "\n",
            "Downloading http://fashion-mnist.s3-website.eu-central-1.amazonaws.com/train-labels-idx1-ubyte.gz\n",
            "Downloading http://fashion-mnist.s3-website.eu-central-1.amazonaws.com/train-labels-idx1-ubyte.gz to /root/.pytorch/F_MNIST_data/FashionMNIST/raw/train-labels-idx1-ubyte.gz\n"
          ]
        },
        {
          "output_type": "stream",
          "name": "stderr",
          "text": [
            "100%|██████████| 29515/29515 [00:00<00:00, 175569.68it/s]\n"
          ]
        },
        {
          "output_type": "stream",
          "name": "stdout",
          "text": [
            "Extracting /root/.pytorch/F_MNIST_data/FashionMNIST/raw/train-labels-idx1-ubyte.gz to /root/.pytorch/F_MNIST_data/FashionMNIST/raw\n",
            "\n",
            "Downloading http://fashion-mnist.s3-website.eu-central-1.amazonaws.com/t10k-images-idx3-ubyte.gz\n",
            "Downloading http://fashion-mnist.s3-website.eu-central-1.amazonaws.com/t10k-images-idx3-ubyte.gz to /root/.pytorch/F_MNIST_data/FashionMNIST/raw/t10k-images-idx3-ubyte.gz\n"
          ]
        },
        {
          "output_type": "stream",
          "name": "stderr",
          "text": [
            "100%|██████████| 4422102/4422102 [00:01<00:00, 3233297.00it/s]\n"
          ]
        },
        {
          "output_type": "stream",
          "name": "stdout",
          "text": [
            "Extracting /root/.pytorch/F_MNIST_data/FashionMNIST/raw/t10k-images-idx3-ubyte.gz to /root/.pytorch/F_MNIST_data/FashionMNIST/raw\n",
            "\n",
            "Downloading http://fashion-mnist.s3-website.eu-central-1.amazonaws.com/t10k-labels-idx1-ubyte.gz\n",
            "Downloading http://fashion-mnist.s3-website.eu-central-1.amazonaws.com/t10k-labels-idx1-ubyte.gz to /root/.pytorch/F_MNIST_data/FashionMNIST/raw/t10k-labels-idx1-ubyte.gz\n"
          ]
        },
        {
          "output_type": "stream",
          "name": "stderr",
          "text": [
            "100%|██████████| 5148/5148 [00:00<00:00, 17177626.88it/s]"
          ]
        },
        {
          "output_type": "stream",
          "name": "stdout",
          "text": [
            "Extracting /root/.pytorch/F_MNIST_data/FashionMNIST/raw/t10k-labels-idx1-ubyte.gz to /root/.pytorch/F_MNIST_data/FashionMNIST/raw\n",
            "\n"
          ]
        },
        {
          "output_type": "stream",
          "name": "stderr",
          "text": [
            "\n"
          ]
        }
      ]
    },
    {
      "cell_type": "code",
      "source": [
        "def imshow(image, label):\n",
        "    plt.title(\"label = \"+ class_list[label])\n",
        "    image = image.numpy().transpose((1, 2, 0))\n",
        "    plt.imshow(image, interpolation='none', cmap='Blues')"
      ],
      "metadata": {
        "id": "dTNE3jVrS57_"
      },
      "execution_count": null,
      "outputs": []
    },
    {
      "cell_type": "code",
      "source": [
        "image, label = next(iter(trainloader))\n",
        "print(image.shape, label.shape)\n",
        "imshow(image[0,:], label[0])"
      ],
      "metadata": {
        "colab": {
          "base_uri": "https://localhost:8080/",
          "height": 470
        },
        "id": "Q26rs2YCY8f4",
        "outputId": "5d2cd044-1e06-4497-8dc4-bffeb3d4b300"
      },
      "execution_count": null,
      "outputs": [
        {
          "output_type": "stream",
          "name": "stdout",
          "text": [
            "torch.Size([64, 1, 28, 28]) torch.Size([64])\n"
          ]
        },
        {
          "output_type": "display_data",
          "data": {
            "text/plain": [
              "<Figure size 640x480 with 1 Axes>"
            ],
            "image/png": "[encoded data removed]"
          },
          "metadata": {}
        }
      ]
    },
    {
      "cell_type": "markdown",
      "source": [
        "# 1. Auto-Encoder vs Variational Auto-Encoder"
      ],
      "metadata": {
        "id": "xC_wX_DzZtmx"
      }
    },
    {
      "cell_type": "code",
      "source": [
        "# 주요 공통 변수\n",
        "original_dim = 784    # MNIST 이미지의 높이 x 너비\n",
        "latent_dim = 2\n",
        "hidden_dim_1 = 256\n",
        "hidden_dim_2 = 64\n",
        "epochs = 50           # 애폭 수"
      ],
      "metadata": {
        "id": "GvB-4CvGZ2fe"
      },
      "execution_count": null,
      "outputs": []
    },
    {
      "cell_type": "markdown",
      "source": [
        "## VAE"
      ],
      "metadata": {
        "id": "XDJsGbVyZyGU"
      }
    },
    {
      "cell_type": "markdown",
      "source": [
        "### VAE model"
      ],
      "metadata": {
        "id": "MM4kM7k8-VaQ"
      }
    },
    {
      "cell_type": "code",
      "source": [
        "class VAE_Encoder(nn.Module):\n",
        "    def __init__(self):\n",
        "        super().__init__()\n",
        "\n",
        "        self.encoder = nn.Sequential(\n",
        "            nn.Linear(original_dim, hidden_dim_1),\n",
        "            nn.ReLU(),\n",
        "            nn.Linear(hidden_dim_1, hidden_dim_2),\n",
        "            nn.ReLU(),\n",
        "        )\n",
        "        self.mean_dc = nn.Linear(hidden_dim_2, latent_dim)\n",
        "        self.logvar_dc = nn.Linear(hidden_dim_2, latent_dim)\n",
        "\n",
        "    def sampling(self, z_mean, z_logvar):\n",
        "        z_std = torch.exp(z_logvar / 2)\n",
        "        eps = torch.randn_like(z_std)\n",
        "        return z_mean + eps*z_std\n",
        "\n",
        "    def forward(self, x):\n",
        "        x = self.encoder(x)\n",
        "        z_mean = self.mean_dc(x)\n",
        "        z_logvar = self.logvar_dc(x)\n",
        "        z = self.sampling(z_mean, z_logvar)\n",
        "        return z_mean, z_logvar, z\n"
      ],
      "metadata": {
        "id": "ABK_HtHyY9xV"
      },
      "execution_count": null,
      "outputs": []
    },
    {
      "cell_type": "code",
      "source": [
        "class VAE_Decoder(nn.Module):\n",
        "    def __init__(self):\n",
        "        super().__init__()\n",
        "\n",
        "        self.decoder = nn.Sequential(\n",
        "            nn.Linear(latent_dim, hidden_dim_2),\n",
        "            nn.ReLU(),\n",
        "            nn.Linear(hidden_dim_2, hidden_dim_1),\n",
        "            nn.ReLU(),\n",
        "            nn.Linear(hidden_dim_1, original_dim),\n",
        "            nn.Sigmoid()\n",
        "        )\n",
        "\n",
        "    def forward(self, z):\n",
        "        x = self.decoder(z)\n",
        "        return x\n"
      ],
      "metadata": {
        "id": "EM9OpqeMe7t_"
      },
      "execution_count": null,
      "outputs": []
    },
    {
      "cell_type": "markdown",
      "source": [
        "### VAE Train"
      ],
      "metadata": {
        "id": "BXxjEiXYhdZv"
      }
    },
    {
      "cell_type": "code",
      "source": [
        "# define loss function\n",
        "def vae_loss_function(recon_x, x, z_mean, z_logvar):\n",
        "    BCE_loss = nn.functional.binary_cross_entropy(recon_x, x.view(-1, original_dim) , reduction=\"sum\" ) # default = mean\n",
        "    KL_loss = -0.5 * torch.sum(1 + z_logvar - torch.exp(z_logvar) - z_mean.pow(2))\n",
        "    return BCE_loss + KL_loss"
      ],
      "metadata": {
        "id": "jsOcXlK5gfbI"
      },
      "execution_count": null,
      "outputs": []
    },
    {
      "cell_type": "code",
      "source": [
        "def vae_train(epochs, encoder, decoder, trainloader, optimizer):\n",
        "    encoder.train()\n",
        "    decoder.train()\n",
        "\n",
        "    train_loss_list = []\n",
        "    for epoch in range(epochs):\n",
        "        temp_train_loss = 0\n",
        "        for image_data, _ in trainloader:\n",
        "            image_data = image_data.to(device)\n",
        "            z_mean, z_logvar, z = encoder(image_data.view(-1, original_dim))\n",
        "            recon_x = decoder(z)\n",
        "\n",
        "            loss = vae_loss_function(recon_x, image_data, z_mean, z_logvar)\n",
        "            temp_train_loss += loss.item()\n",
        "\n",
        "            optimizer.zero_grad()\n",
        "            loss.backward()\n",
        "            optimizer.step()\n",
        "\n",
        "        train_loss = temp_train_loss / len(trainloader.dataset)\n",
        "        train_loss_list.append(train_loss)\n",
        "        print(\">>>> epoch: {}/{} || loss: {:.4f}\".format(epoch, epochs, train_loss))\n",
        "\n",
        "    return train_loss_list"
      ],
      "metadata": {
        "id": "dAxLU54ljLPB"
      },
      "execution_count": null,
      "outputs": []
    },
    {
      "cell_type": "code",
      "source": [
        "vae_encoder = VAE_Encoder().to(device)\n",
        "vae_decoder = VAE_Decoder().to(device)\n",
        "optimizer = torch.optim.Adam(list(vae_encoder.parameters()) + list(vae_decoder.parameters()), lr=0.0001)"
      ],
      "metadata": {
        "id": "nKuwE38lno0L"
      },
      "execution_count": null,
      "outputs": []
    },
    {
      "cell_type": "code",
      "source": [
        "%%time\n",
        "\n",
        "vae_train_loss= vae_train(epochs, vae_encoder, vae_decoder, trainloader, optimizer)"
      ],
      "metadata": {
        "colab": {
          "base_uri": "https://localhost:8080/"
        },
        "id": "kKZG2EfWokMD",
        "outputId": "8120d3ee-d90d-465a-bca9-18a1def136eb"
      },
      "execution_count": null,
      "outputs": [
        {
          "output_type": "stream",
          "name": "stdout",
          "text": [
            ">>>> epoch: 0/50 || loss: 347.4747\n",
            ">>>> epoch: 1/50 || loss: 284.5077\n",
            ">>>> epoch: 2/50 || loss: 279.6204\n",
            ">>>> epoch: 3/50 || loss: 276.6316\n",
            ">>>> epoch: 4/50 || loss: 274.1478\n",
            ">>>> epoch: 5/50 || loss: 272.1599\n",
            ">>>> epoch: 6/50 || loss: 270.6947\n",
            ">>>> epoch: 7/50 || loss: 269.6532\n",
            ">>>> epoch: 8/50 || loss: 268.8703\n",
            ">>>> epoch: 9/50 || loss: 268.1663\n",
            ">>>> epoch: 10/50 || loss: 267.5649\n",
            ">>>> epoch: 11/50 || loss: 266.9820\n",
            ">>>> epoch: 12/50 || loss: 266.4746\n",
            ">>>> epoch: 13/50 || loss: 265.9820\n",
            ">>>> epoch: 14/50 || loss: 265.4665\n",
            ">>>> epoch: 15/50 || loss: 265.0598\n",
            ">>>> epoch: 16/50 || loss: 264.6629\n",
            ">>>> epoch: 17/50 || loss: 264.3104\n",
            ">>>> epoch: 18/50 || loss: 263.9777\n",
            ">>>> epoch: 19/50 || loss: 263.6903\n",
            ">>>> epoch: 20/50 || loss: 263.4334\n",
            ">>>> epoch: 21/50 || loss: 263.1973\n",
            ">>>> epoch: 22/50 || loss: 262.9505\n",
            ">>>> epoch: 23/50 || loss: 262.7600\n",
            ">>>> epoch: 24/50 || loss: 262.5799\n",
            ">>>> epoch: 25/50 || loss: 262.4309\n",
            ">>>> epoch: 26/50 || loss: 262.2301\n",
            ">>>> epoch: 27/50 || loss: 262.0780\n",
            ">>>> epoch: 28/50 || loss: 261.9446\n",
            ">>>> epoch: 29/50 || loss: 261.7900\n",
            ">>>> epoch: 30/50 || loss: 261.6203\n",
            ">>>> epoch: 31/50 || loss: 261.5281\n",
            ">>>> epoch: 32/50 || loss: 261.3866\n",
            ">>>> epoch: 33/50 || loss: 261.2469\n",
            ">>>> epoch: 34/50 || loss: 261.1663\n",
            ">>>> epoch: 35/50 || loss: 261.0129\n",
            ">>>> epoch: 36/50 || loss: 260.9201\n",
            ">>>> epoch: 37/50 || loss: 260.8123\n",
            ">>>> epoch: 38/50 || loss: 260.7097\n",
            ">>>> epoch: 39/50 || loss: 260.5941\n",
            ">>>> epoch: 40/50 || loss: 260.4841\n",
            ">>>> epoch: 41/50 || loss: 260.3951\n",
            ">>>> epoch: 42/50 || loss: 260.2994\n",
            ">>>> epoch: 43/50 || loss: 260.2038\n",
            ">>>> epoch: 44/50 || loss: 260.1040\n",
            ">>>> epoch: 45/50 || loss: 260.0321\n",
            ">>>> epoch: 46/50 || loss: 259.9197\n",
            ">>>> epoch: 47/50 || loss: 259.8359\n",
            ">>>> epoch: 48/50 || loss: 259.7509\n",
            ">>>> epoch: 49/50 || loss: 259.6517\n",
            "CPU times: user 7min 8s, sys: 2.89 s, total: 7min 11s\n",
            "Wall time: 7min 17s\n"
          ]
        }
      ]
    },
    {
      "cell_type": "markdown",
      "source": [
        "### VAE 결과"
      ],
      "metadata": {
        "id": "XIUjBTjkz66i"
      }
    },
    {
      "cell_type": "code",
      "source": [
        "def vae_test(encoder, decoder, testloader):\n",
        "    encoder.eval()\n",
        "    decoder.eval()\n",
        "\n",
        "    with torch.no_grad():\n",
        "        image_data, label = next(iter(trainloader))\n",
        "        image_data = image_data.to(device)\n",
        "        z_mean, z_logvar, z = encoder(image_data.view(-1, original_dim))\n",
        "        recon_x = decoder(z)\n",
        "\n",
        "        loss = loss_function(recon_x, image_data, z_mean, z_logvar)\n",
        "        print(\">>>> test loss: {:.4f}\".format(loss / len(image_data)))\n",
        "\n",
        "        plt.rcParams['figure.figsize'] = (15.0, 8.0)\n",
        "\n",
        "        image_data = image_data.cpu()\n",
        "        origin_grid = make_grid(image_data, nrow=int(batch_size**0.5), normalize=True).permute(1,2,0).numpy()\n",
        "        plt.subplot(1, 2, 1)\n",
        "        plt.title(\"original image\")\n",
        "        plt.xticks([])\n",
        "        plt.yticks([])\n",
        "        plt.imshow(origin_grid)\n",
        "\n",
        "        sample_images = recon_x.view(-1, 1, 28, 28).cpu()\n",
        "        recon_grid = make_grid(sample_images, nrow=int(batch_size**0.5), normalize=True).permute(1,2,0).numpy()\n",
        "        plt.subplot(1, 2, 2)\n",
        "        plt.title(\"reconstruct image\")\n",
        "        plt.xticks([])\n",
        "        plt.yticks([])\n",
        "        plt.imshow(recon_grid)\n",
        "        plt.show()\n"
      ],
      "metadata": {
        "id": "dk12Hu2Boxiw"
      },
      "execution_count": null,
      "outputs": []
    },
    {
      "cell_type": "code",
      "source": [
        "vae_test(vae_encoder, vae_decoder, testloader)"
      ],
      "metadata": {
        "colab": {
          "base_uri": "https://localhost:8080/",
          "height": 313
        },
        "id": "ung9rPvE18CD",
        "outputId": "48c44bbe-a8e9-4848-f596-04520008b307"
      },
      "execution_count": null,
      "outputs": [
        {
          "output_type": "error",
          "ename": "NameError",
          "evalue": "ignored",
          "traceback": [
            "\u001b[0;31m---------------------------------------------------------------------------\u001b[0m",
            "\u001b[0;31mNameError\u001b[0m                                 Traceback (most recent call last)",
            "\u001b[0;32m<ipython-input-14-2f036e175b78>\u001b[0m in \u001b[0;36m<cell line: 1>\u001b[0;34m()\u001b[0m\n\u001b[0;32m----> 1\u001b[0;31m \u001b[0mvae_test\u001b[0m\u001b[0;34m(\u001b[0m\u001b[0mvae_encoder\u001b[0m\u001b[0;34m,\u001b[0m \u001b[0mvae_decoder\u001b[0m\u001b[0;34m,\u001b[0m \u001b[0mtestloader\u001b[0m\u001b[0;34m)\u001b[0m\u001b[0;34m\u001b[0m\u001b[0;34m\u001b[0m\u001b[0m\n\u001b[0m",
            "\u001b[0;32m<ipython-input-13-650f6a10904e>\u001b[0m in \u001b[0;36mvae_test\u001b[0;34m(encoder, decoder, testloader)\u001b[0m\n\u001b[1;32m      9\u001b[0m         \u001b[0mrecon_x\u001b[0m \u001b[0;34m=\u001b[0m \u001b[0mdecoder\u001b[0m\u001b[0;34m(\u001b[0m\u001b[0mz\u001b[0m\u001b[0;34m)\u001b[0m\u001b[0;34m\u001b[0m\u001b[0;34m\u001b[0m\u001b[0m\n\u001b[1;32m     10\u001b[0m \u001b[0;34m\u001b[0m\u001b[0m\n\u001b[0;32m---> 11\u001b[0;31m         \u001b[0mloss\u001b[0m \u001b[0;34m=\u001b[0m \u001b[0mloss_function\u001b[0m\u001b[0;34m(\u001b[0m\u001b[0mrecon_x\u001b[0m\u001b[0;34m,\u001b[0m \u001b[0mimage_data\u001b[0m\u001b[0;34m,\u001b[0m \u001b[0mz_mean\u001b[0m\u001b[0;34m,\u001b[0m \u001b[0mz_logvar\u001b[0m\u001b[0;34m)\u001b[0m\u001b[0;34m\u001b[0m\u001b[0;34m\u001b[0m\u001b[0m\n\u001b[0m\u001b[1;32m     12\u001b[0m         \u001b[0mprint\u001b[0m\u001b[0;34m(\u001b[0m\u001b[0;34m\">>>> test loss: {:.4f}\"\u001b[0m\u001b[0;34m.\u001b[0m\u001b[0mformat\u001b[0m\u001b[0;34m(\u001b[0m\u001b[0mloss\u001b[0m \u001b[0;34m/\u001b[0m \u001b[0mlen\u001b[0m\u001b[0;34m(\u001b[0m\u001b[0mimage_data\u001b[0m\u001b[0;34m)\u001b[0m\u001b[0;34m)\u001b[0m\u001b[0;34m)\u001b[0m\u001b[0;34m\u001b[0m\u001b[0;34m\u001b[0m\u001b[0m\n\u001b[1;32m     13\u001b[0m \u001b[0;34m\u001b[0m\u001b[0m\n",
            "\u001b[0;31mNameError\u001b[0m: name 'loss_function' is not defined"
          ]
        }
      ]
    },
    {
      "cell_type": "code",
      "source": [
        "def vae_scatter(encoder, decoder, testloader):\n",
        "    encoder.eval()\n",
        "    decoder.eval()\n",
        "    plt.figure(figsize=(6, 6))\n",
        "    with torch.no_grad():\n",
        "        for image_data, label in testloader:\n",
        "            image_data = image_data.to(device)\n",
        "            z_mean, z_logvar, z = encoder(image_data.view(-1, original_dim))\n",
        "            z_mean = z_mean.cpu().numpy()\n",
        "            # z_logvar = z_logvar.cpu().numpy()\n",
        "            # z = z.cpu().numpy()\n",
        "\n",
        "            plt.scatter(z_mean[:,0], z_mean[:,1], c=label.cpu(), cmap='viridis')\n",
        "            # plt.scatter(z_logvar[:,0], z_logvar[:,1], c=label.cpu(), cmap='viridis')\n",
        "            # plt.scatter(z[:,0], z[:,1], c=label.cpu(), cmap='viridis')\n",
        "\n",
        "\n",
        "    plt.colorbar()\n",
        "    plt.show()\n"
      ],
      "metadata": {
        "id": "D87WJtlG3tBf"
      },
      "execution_count": null,
      "outputs": []
    },
    {
      "cell_type": "code",
      "source": [
        "vae_scatter(vae_encoder, vae_decoder, testloader)"
      ],
      "metadata": {
        "id": "Gs9-REFH4OZO"
      },
      "execution_count": null,
      "outputs": []
    },
    {
      "cell_type": "markdown",
      "source": [
        "## AE"
      ],
      "metadata": {
        "id": "NlDkD6JB-cjV"
      }
    },
    {
      "cell_type": "markdown",
      "source": [
        "### AE model"
      ],
      "metadata": {
        "id": "JumPNugL-hX0"
      }
    },
    {
      "cell_type": "code",
      "source": [
        "class AE_Encoder(nn.Module):\n",
        "    def __init__(self):\n",
        "        super().__init__()\n",
        "\n",
        "        self.encoder = nn.Sequential(\n",
        "            nn.Linear(original_dim, hidden_dim_1),\n",
        "            nn.ReLU(),\n",
        "            nn.Linear(hidden_dim_1, hidden_dim_2),\n",
        "            nn.ReLU(),\n",
        "            nn.Linear(hidden_dim_2, latent_dim)\n",
        "        )\n",
        "\n",
        "    def forward(self, x):\n",
        "        z = self.encoder(x)\n",
        "        return z\n"
      ],
      "metadata": {
        "id": "jnHAzo_Y-eA1"
      },
      "execution_count": null,
      "outputs": []
    },
    {
      "cell_type": "code",
      "source": [
        "class AE_Decoder(nn.Module):\n",
        "    def __init__(self):\n",
        "        super().__init__()\n",
        "\n",
        "        self.decoder = nn.Sequential(\n",
        "            nn.Linear(latent_dim, hidden_dim_2),\n",
        "            nn.ReLU(),\n",
        "            nn.Linear(hidden_dim_2, hidden_dim_1),\n",
        "            nn.ReLU(),\n",
        "            nn.Linear(hidden_dim_1, original_dim),\n",
        "            nn.Sigmoid()\n",
        "        )\n",
        "\n",
        "    def forward(self, z):\n",
        "        x = self.decoder(z)\n",
        "        return x\n"
      ],
      "metadata": {
        "id": "Q6sYC-lp-vr2"
      },
      "execution_count": null,
      "outputs": []
    },
    {
      "cell_type": "markdown",
      "source": [
        "### AE train"
      ],
      "metadata": {
        "id": "Hlp8dAmQ-8Ch"
      }
    },
    {
      "cell_type": "code",
      "source": [
        "# define loss function\n",
        "def ae_loss_function(recon_x, x):\n",
        "    BCE_loss = nn.functional.binary_cross_entropy(recon_x, x.view(-1, original_dim) , reduction=\"sum\" ) # default = mean\n",
        "    return BCE_loss"
      ],
      "metadata": {
        "id": "A1dcMS3M-yMu"
      },
      "execution_count": null,
      "outputs": []
    },
    {
      "cell_type": "code",
      "source": [
        "def ae_train(epochs, encoder, decoder, trainloader, optimizer):\n",
        "    encoder.train()\n",
        "    decoder.train()\n",
        "\n",
        "    train_loss_list = []\n",
        "    for epoch in range(epochs):\n",
        "        temp_train_loss = 0\n",
        "        for image_data, _ in trainloader:\n",
        "            image_data = image_data.to(device)\n",
        "            z = encoder(image_data.view(-1, original_dim))\n",
        "            recon_x = decoder(z)\n",
        "\n",
        "            loss = ae_loss_function(recon_x, image_data)\n",
        "            temp_train_loss += loss.item()\n",
        "\n",
        "            optimizer.zero_grad()\n",
        "            loss.backward()\n",
        "            optimizer.step()\n",
        "\n",
        "        train_loss = temp_train_loss / len(trainloader.dataset)\n",
        "        train_loss_list.append(train_loss)\n",
        "        print(\">>>> epoch: {}/{} || loss: {:.4f}\".format(epoch, epochs, train_loss))\n",
        "\n",
        "    return train_loss_list"
      ],
      "metadata": {
        "id": "xdbot6Lc_Cvm"
      },
      "execution_count": null,
      "outputs": []
    },
    {
      "cell_type": "code",
      "source": [
        "ae_encoder = AE_Encoder().to(device)\n",
        "ae_decoder = AE_Decoder().to(device)\n",
        "optimizer = torch.optim.Adam(list(ae_encoder.parameters()) + list(ae_decoder.parameters()), lr=0.0001)"
      ],
      "metadata": {
        "id": "hnPDqTMI_JoW"
      },
      "execution_count": null,
      "outputs": []
    },
    {
      "cell_type": "code",
      "source": [
        "%%time\n",
        "\n",
        "ae_train_loss= ae_train(epochs, ae_encoder, ae_decoder, trainloader, optimizer)"
      ],
      "metadata": {
        "id": "KAX2YxaX_Ow-"
      },
      "execution_count": null,
      "outputs": []
    },
    {
      "cell_type": "markdown",
      "source": [
        "### AE 결과"
      ],
      "metadata": {
        "id": "6KY48BeO__nV"
      }
    },
    {
      "cell_type": "code",
      "source": [
        "def ae_test(encoder, decoder, testloader):\n",
        "    encoder.eval()\n",
        "    decoder.eval()\n",
        "\n",
        "    with torch.no_grad():\n",
        "        image_data, label = next(iter(trainloader))\n",
        "        image_data = image_data.to(device)\n",
        "        z = encoder(image_data.view(-1, original_dim))\n",
        "        recon_x = decoder(z)\n",
        "\n",
        "        loss = ae_loss_function(recon_x, image_data)\n",
        "        print(\">>>> test loss: {:.4f}\".format(loss / len(image_data)))\n",
        "\n",
        "        plt.rcParams['figure.figsize'] = (15.0, 8.0)\n",
        "\n",
        "        image_data = image_data.cpu()\n",
        "        origin_grid = make_grid(image_data, nrow=int(batch_size**0.5), normalize=True).permute(1,2,0).numpy()\n",
        "        plt.subplot(1, 2, 1)\n",
        "        plt.title(\"original image\")\n",
        "        plt.xticks([])\n",
        "        plt.yticks([])\n",
        "        plt.imshow(origin_grid)\n",
        "\n",
        "        sample_images = recon_x.view(-1, 1, 28, 28).cpu()\n",
        "        recon_grid = make_grid(sample_images, nrow=int(batch_size**0.5), normalize=True).permute(1,2,0).numpy()\n",
        "        plt.subplot(1, 2, 2)\n",
        "        plt.title(\"reconstruct image\")\n",
        "        plt.xticks([])\n",
        "        plt.yticks([])\n",
        "        plt.imshow(recon_grid)\n",
        "        plt.show()\n"
      ],
      "metadata": {
        "id": "q5L2XfmY_5-3"
      },
      "execution_count": null,
      "outputs": []
    },
    {
      "cell_type": "code",
      "source": [
        "ae_test(ae_encoder, ae_decoder, testloader)"
      ],
      "metadata": {
        "id": "i-NJLIX9AKjQ"
      },
      "execution_count": null,
      "outputs": []
    },
    {
      "cell_type": "code",
      "source": [
        "def ae_scatter(encoder, decoder, testloader):\n",
        "    encoder.eval()\n",
        "    decoder.eval()\n",
        "    plt.figure(figsize=(6, 6))\n",
        "    with torch.no_grad():\n",
        "        for image_data, label in testloader:\n",
        "            image_data = image_data.to(device)\n",
        "            z = encoder(image_data.view(-1, original_dim))\n",
        "            z = z.cpu().numpy()\n",
        "            # z_logvar = z_logvar.cpu().numpy()\n",
        "            # z = z.cpu().numpy()\n",
        "\n",
        "            plt.scatter(z[:,0], z[:,1], c=label.cpu(), cmap='viridis')\n",
        "            # plt.scatter(z_logvar[:,0], z_logvar[:,1], c=label.cpu(), cmap='viridis')\n",
        "            # plt.scatter(z[:,0], z[:,1], c=label.cpu(), cmap='viridis')\n",
        "\n",
        "\n",
        "    plt.colorbar()\n",
        "    plt.show()\n"
      ],
      "metadata": {
        "id": "cJtJqSLcAQQ3"
      },
      "execution_count": null,
      "outputs": []
    },
    {
      "cell_type": "code",
      "source": [
        "vae_scatter(vae_encoder, vae_decoder, testloader)"
      ],
      "metadata": {
        "id": "VuLS-T2gAZ3m"
      },
      "execution_count": null,
      "outputs": []
    },
    {
      "cell_type": "code",
      "source": [
        "ae_scatter(ae_encoder, ae_decoder, testloader)"
      ],
      "metadata": {
        "id": "1Vd1kY8kAaPu"
      },
      "execution_count": null,
      "outputs": []
    },
    {
      "cell_type": "code",
      "source": [],
      "metadata": {
        "id": "gmTT-Le9AdD9"
      },
      "execution_count": null,
      "outputs": []
    }
  ]
}